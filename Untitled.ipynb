{
 "cells": [
  {
   "cell_type": "code",
   "execution_count": 28,
   "id": "12985dfe",
   "metadata": {},
   "outputs": [],
   "source": [
    "import csv\n",
    "import string\n",
    "import numpy as np\n",
    "import tensorflow as tf\n",
    "import matplotlib.pyplot as plt\n",
    "from tensorflow.keras.preprocessing.image import ImageDataGenerator, array_to_img\n",
    "\n",
    "from tensorflow.keras.optimizers import Adam"
   ]
  },
  {
   "cell_type": "code",
   "execution_count": 2,
   "id": "6f35355d",
   "metadata": {},
   "outputs": [],
   "source": [
    "TRAINING_DIR = './tmp/dataset/sign_mnist_train.csv'\n",
    "VALIDATION_DIR = './tmp/dataset/sign_mnist_test.csv'"
   ]
  },
  {
   "cell_type": "code",
   "execution_count": 5,
   "id": "a0944802",
   "metadata": {},
   "outputs": [],
   "source": [
    "def parse_data_from_input(filename):\n",
    "    \"\"\"Parses the images and labels from a CSV file\"\"\"\n",
    "    with open(filename) as file:\n",
    "        csv_reader = csv.reader(file, delimiter=',')\n",
    "        \n",
    "        labels = []\n",
    "        images = []\n",
    "        \n",
    "        next(csv_reader, None)\n",
    "        \n",
    "        for row in csv_reader:\n",
    "            label = row[0]\n",
    "            data = row[1:]\n",
    "            img = np.array(data).reshape((28, 28))\n",
    "            \n",
    "            images.append(img)\n",
    "            labels.append(label)\n",
    "            \n",
    "        images = np.array(images).astype(float)\n",
    "        labels = np.array(labels).astype(float)\n",
    "        \n",
    "        return images, labels"
   ]
  },
  {
   "cell_type": "code",
   "execution_count": 6,
   "id": "01fc2060",
   "metadata": {},
   "outputs": [],
   "source": [
    "# Test your function\n",
    "training_images, training_labels = parse_data_from_input(TRAINING_DIR)\n",
    "validation_images, validation_labels = parse_data_from_input(VALIDATION_DIR)"
   ]
  },
  {
   "cell_type": "code",
   "execution_count": 7,
   "id": "701ba6b5",
   "metadata": {},
   "outputs": [
    {
     "name": "stdout",
     "output_type": "stream",
     "text": [
      "Training images has shape: (27455, 28, 28) and dtype: float64\n",
      "Training labels has shape: (27455,) and dtype: float64\n",
      "Validation images has shape: (7172, 28, 28) and dtype: float64\n",
      "Validation labels has shape: (7172,) and dtype: float64\n"
     ]
    }
   ],
   "source": [
    "print(f\"Training images has shape: {training_images.shape} and dtype: {training_images.dtype}\")\n",
    "print(f\"Training labels has shape: {training_labels.shape} and dtype: {training_labels.dtype}\")\n",
    "print(f\"Validation images has shape: {validation_images.shape} and dtype: {validation_images.dtype}\")\n",
    "print(f\"Validation labels has shape: {validation_labels.shape} and dtype: {validation_labels.dtype}\")"
   ]
  },
  {
   "cell_type": "code",
   "execution_count": 16,
   "id": "cf9dfc72",
   "metadata": {},
   "outputs": [],
   "source": [
    "# Plot sample images\n",
    "def plot_categories(training_images, training_labels):\n",
    "    \"\"\"Plot sample some images\"\"\"\n",
    "    fig, axes = plt.subplots(1, 10, figsize=(16, 15))\n",
    "    axes = axes.flatten()\n",
    "    letters = list(string.ascii_lowercase)\n",
    "    \n",
    "    for k in range(10):\n",
    "        img = training_images[k]\n",
    "        img = np.expand_dims(img, axis=-1)\n",
    "        img = array_to_img(img)\n",
    "        ax = axes[k]\n",
    "        ax.imshow(img, cmap=\"Greys_r\")\n",
    "        ax.set_title(f\"{letters[int(training_labels[k])]}\")\n",
    "        ax.set_axis_off()\n",
    "    \n",
    "    plt.tight_layout()\n",
    "    plt.show()"
   ]
  },
  {
   "cell_type": "code",
   "execution_count": 17,
   "id": "ca5b955d",
   "metadata": {},
   "outputs": [
    {
     "data": {
      "image/png": "[encoded data removed]",
      "text/plain": [
       "<Figure size 1152x1080 with 10 Axes>"
      ]
     },
     "metadata": {
      "needs_background": "light"
     },
     "output_type": "display_data"
    }
   ],
   "source": [
    "plot_categories(training_images, training_labels)"
   ]
  },
  {
   "cell_type": "markdown",
   "id": "acf194c6",
   "metadata": {},
   "source": [
    "# creating the generators for the CNN"
   ]
  },
  {
   "cell_type": "code",
   "execution_count": 24,
   "id": "4fda0760",
   "metadata": {},
   "outputs": [],
   "source": [
    "def train_val_generators(training_images, training_labels, validation_images, validation_labels):\n",
    "    \"\"\"Create the training and validation data generators\"\"\"\n",
    "    \n",
    "    training_images = np.expand_dims(training_images, axis=3)\n",
    "    validation_images = np.expand_dims(validation_images, axis=3)\n",
    "    \n",
    "    \n",
    "    train_datagen = ImageDataGenerator(rescale=1./255.)\n",
    "    \n",
    "    train_generator = train_datagen.flow(x=training_images,\n",
    "                                         y=training_labels,\n",
    "                                         batch_size=32)\n",
    "    \n",
    "    validation_datagen = ImageDataGenerator(rescale=1./255.)\n",
    "    \n",
    "    validation_generator = validation_datagen.flow(x=validation_images,\n",
    "                                                   y=validation_labels,\n",
    "                                                   batch_size=32)\n",
    "    \n",
    "    return train_generator, validation_generator"
   ]
  },
  {
   "cell_type": "code",
   "execution_count": 25,
   "id": "0b7b778e",
   "metadata": {},
   "outputs": [],
   "source": [
    "train_generator, validation_generator = train_val_generators(training_images, training_labels, validation_images, validation_labels)"
   ]
  },
  {
   "cell_type": "code",
   "execution_count": 26,
   "id": "55da2a6a",
   "metadata": {},
   "outputs": [
    {
     "name": "stdout",
     "output_type": "stream",
     "text": [
      "Images of training generator have shape: (27455, 28, 28, 1)\n",
      "Labels of training generator have shape: (27455,)\n",
      "Images of validation generator have shape: (7172, 28, 28, 1)\n",
      "Labels of validation generator have shape: (7172,)\n"
     ]
    }
   ],
   "source": [
    "print(f\"Images of training generator have shape: {train_generator.x.shape}\")\n",
    "print(f\"Labels of training generator have shape: {train_generator.y.shape}\")\n",
    "print(f\"Images of validation generator have shape: {validation_generator.x.shape}\")\n",
    "print(f\"Labels of validation generator have shape: {validation_generator.y.shape}\")"
   ]
  },
  {
   "cell_type": "code",
   "execution_count": 34,
   "id": "dee0c326",
   "metadata": {},
   "outputs": [],
   "source": [
    "def create_model():\n",
    "    \"\"\"Build a CNN architecture model\"\"\"\n",
    "    model = tf.keras.Sequential([\n",
    "        tf.keras.layers.Conv2D(32, (3,3), activation='relu', input_shape=(28, 28, 1)),\n",
    "        tf.keras.layers.MaxPooling2D(2,2),\n",
    "        tf.keras.layers.Conv2D(32, (3,3), activation='relu'),\n",
    "        tf.keras.layers.MaxPooling2D(2,2),\n",
    "        tf.keras.layers.Flatten(),\n",
    "        tf.keras.layers.Dense(512, activation='relu'),\n",
    "        tf.keras.layers.Dense(26, activation='softmax')\n",
    "    ])\n",
    "    \n",
    "    \n",
    "    model.compile(optimizer='adam',\n",
    "                  loss='sparse_categorical_crossentropy',\n",
    "                  metrics=['accuracy'])\n",
    "    \n",
    "    return model"
   ]
  },
  {
   "cell_type": "code",
   "execution_count": 35,
   "id": "0c0e6a38",
   "metadata": {},
   "outputs": [],
   "source": [
    "model = create_model()"
   ]
  },
  {
   "cell_type": "code",
   "execution_count": 36,
   "id": "4de1af07",
   "metadata": {},
   "outputs": [
    {
     "name": "stdout",
     "output_type": "stream",
     "text": [
      "Model: \"sequential\"\n",
      "_________________________________________________________________\n",
      "Layer (type)                 Output Shape              Param #   \n",
      "=================================================================\n",
      "conv2d_1 (Conv2D)            (None, 26, 26, 32)        320       \n",
      "_________________________________________________________________\n",
      "max_pooling2d (MaxPooling2D) (None, 13, 13, 32)        0         \n",
      "_________________________________________________________________\n",
      "conv2d_2 (Conv2D)            (None, 11, 11, 32)        9248      \n",
      "_________________________________________________________________\n",
      "max_pooling2d_1 (MaxPooling2 (None, 5, 5, 32)          0         \n",
      "_________________________________________________________________\n",
      "flatten (Flatten)            (None, 800)               0         \n",
      "_________________________________________________________________\n",
      "dense (Dense)                (None, 512)               410112    \n",
      "_________________________________________________________________\n",
      "dense_1 (Dense)              (None, 26)                13338     \n",
      "=================================================================\n",
      "Total params: 433,018\n",
      "Trainable params: 433,018\n",
      "Non-trainable params: 0\n",
      "_________________________________________________________________\n"
     ]
    }
   ],
   "source": [
    "model.summary()"
   ]
  },
  {
   "cell_type": "code",
   "execution_count": 37,
   "id": "4b6e6fc6",
   "metadata": {},
   "outputs": [
    {
     "name": "stdout",
     "output_type": "stream",
     "text": [
      "Epoch 1/15\n",
      "858/858 [==============================] - 20s 23ms/step - loss: 0.8072 - accuracy: 0.7609 - val_loss: 0.5006 - val_accuracy: 0.8370\n",
      "Epoch 2/15\n",
      "858/858 [==============================] - 21s 25ms/step - loss: 0.0316 - accuracy: 0.9946 - val_loss: 0.4121 - val_accuracy: 0.9017\n",
      "Epoch 3/15\n",
      "858/858 [==============================] - 21s 24ms/step - loss: 0.0034 - accuracy: 1.0000 - val_loss: 0.4257 - val_accuracy: 0.9124\n",
      "Epoch 4/15\n",
      "858/858 [==============================] - 20s 23ms/step - loss: 0.0290 - accuracy: 0.9909 - val_loss: 0.4442 - val_accuracy: 0.9154\n",
      "Epoch 5/15\n",
      "858/858 [==============================] - 20s 24ms/step - loss: 4.0638e-04 - accuracy: 1.0000 - val_loss: 0.4529 - val_accuracy: 0.9229\n",
      "Epoch 6/15\n",
      "858/858 [==============================] - 21s 24ms/step - loss: 2.1166e-04 - accuracy: 1.0000 - val_loss: 0.4677 - val_accuracy: 0.9278\n",
      "Epoch 7/15\n",
      "858/858 [==============================] - 21s 24ms/step - loss: 1.1898e-04 - accuracy: 1.0000 - val_loss: 0.4914 - val_accuracy: 0.9244\n",
      "Epoch 8/15\n",
      "858/858 [==============================] - 20s 23ms/step - loss: 7.4456e-05 - accuracy: 1.0000 - val_loss: 0.4924 - val_accuracy: 0.9289\n",
      "Epoch 9/15\n",
      "858/858 [==============================] - 20s 23ms/step - loss: 5.1828e-05 - accuracy: 1.0000 - val_loss: 0.5151 - val_accuracy: 0.9281\n",
      "Epoch 10/15\n",
      "858/858 [==============================] - 19s 22ms/step - loss: 3.3011e-05 - accuracy: 1.0000 - val_loss: 0.5405 - val_accuracy: 0.9282\n",
      "Epoch 11/15\n",
      "858/858 [==============================] - 20s 23ms/step - loss: 0.0361 - accuracy: 0.9901 - val_loss: 0.3699 - val_accuracy: 0.9087\n",
      "Epoch 12/15\n",
      "858/858 [==============================] - 20s 23ms/step - loss: 0.0012 - accuracy: 0.9999 - val_loss: 0.4159 - val_accuracy: 0.9292\n",
      "Epoch 13/15\n",
      "858/858 [==============================] - 20s 23ms/step - loss: 1.6116e-04 - accuracy: 1.0000 - val_loss: 0.4446 - val_accuracy: 0.9296\n",
      "Epoch 14/15\n",
      "858/858 [==============================] - 20s 23ms/step - loss: 8.0261e-05 - accuracy: 1.0000 - val_loss: 0.4521 - val_accuracy: 0.9328\n",
      "Epoch 15/15\n",
      "858/858 [==============================] - 19s 22ms/step - loss: 4.6996e-05 - accuracy: 1.0000 - val_loss: 0.4869 - val_accuracy: 0.9255\n"
     ]
    }
   ],
   "source": [
    "history = model.fit(train_generator,\n",
    "                   epochs=15,\n",
    "                   validation_data = validation_generator)"
   ]
  },
  {
   "cell_type": "code",
   "execution_count": 39,
   "id": "1fb39a5f",
   "metadata": {},
   "outputs": [],
   "source": [
    "# Plot the chart for accuracy on training and validation\n",
    "acc = history.history['accuracy']\n",
    "val_acc = history.history['val_accuracy']\n",
    "loss = history.history['loss']\n",
    "val_loss = history.history['val_loss']\n",
    "\n",
    "epochs = range(len(acc))"
   ]
  },
  {
   "cell_type": "code",
   "execution_count": 41,
   "id": "61c79264",
   "metadata": {},
   "outputs": [
    {
     "data": {
      "image/png": "[encoded data removed]",
      "text/plain": [
       "<Figure size 432x288 with 1 Axes>"
      ]
     },
     "metadata": {
      "needs_background": "light"
     },
     "output_type": "display_data"
    },
    {
     "data": {
      "text/plain": [
       "<Figure size 432x288 with 0 Axes>"
      ]
     },
     "metadata": {},
     "output_type": "display_data"
    }
   ],
   "source": [
    "plt.plot(epochs, acc, 'r', label='Training accuracy')\n",
    "plt.plot(epochs, val_acc, 'b', label='Validation accuracy')\n",
    "plt.title('Training and Validation accuracy')\n",
    "plt.legend()\n",
    "plt.figure()\n",
    "plt.show()"
   ]
  },
  {
   "cell_type": "code",
   "execution_count": 42,
   "id": "aca2094c",
   "metadata": {},
   "outputs": [
    {
     "data": {
      "image/png": "[encoded data removed]",
      "text/plain": [
       "<Figure size 432x288 with 1 Axes>"
      ]
     },
     "metadata": {
      "needs_background": "light"
     },
     "output_type": "display_data"
    },
    {
     "data": {
      "text/plain": [
       "<Figure size 432x288 with 0 Axes>"
      ]
     },
     "metadata": {},
     "output_type": "display_data"
    }
   ],
   "source": [
    "plt.plot(epochs, loss, 'r', label='Training Loss')\n",
    "plt.plot(epochs, val_loss, 'b', label='Validation Loss')\n",
    "plt.title('Training and Validation loss')\n",
    "plt.legend()\n",
    "plt.figure()\n",
    "plt.show()"
   ]
  },
  {
   "cell_type": "code",
   "execution_count": null,
   "id": "3284bfcf",
   "metadata": {},
   "outputs": [],
   "source": []
  }
 ],
 "metadata": {
  "kernelspec": {
   "display_name": "Python 3 (ipykernel)",
   "language": "python",
   "name": "python3"
  },
  "language_info": {
   "codemirror_mode": {
    "name": "ipython",
    "version": 3
   },
   "file_extension": ".py",
   "mimetype": "text/x-python",
   "name": "python",
   "nbconvert_exporter": "python",
   "pygments_lexer": "ipython3",
   "version": "3.8.12"
  }
 },
 "nbformat": 4,
 "nbformat_minor": 5
}
